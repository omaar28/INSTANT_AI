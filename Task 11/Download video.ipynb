{
 "cells": [
  {
   "cell_type": "markdown",
   "id": "b4f16dc6",
   "metadata": {},
   "source": [
    "# Download Youtube\n"
   ]
  },
  {
   "cell_type": "code",
   "execution_count": 2,
   "id": "f298011e",
   "metadata": {},
   "outputs": [
    {
     "name": "stdout",
     "output_type": "stream",
     "text": [
      "Collecting pytube\n",
      "  Downloading pytube-12.1.0-py3-none-any.whl (56 kB)\n",
      "Installing collected packages: pytube\n",
      "Successfully installed pytube-12.1.0\n",
      "Note: you may need to restart the kernel to use updated packages.\n"
     ]
    }
   ],
   "source": [
    "pip install pytube"
   ]
  },
  {
   "cell_type": "code",
   "execution_count": 4,
   "id": "390d7223",
   "metadata": {},
   "outputs": [],
   "source": [
    "from pytube import YouTube"
   ]
  },
  {
   "cell_type": "code",
   "execution_count": 6,
   "id": "2a6c9e5d",
   "metadata": {},
   "outputs": [
    {
     "name": "stdout",
     "output_type": "stream",
     "text": [
      "YouTube video downloader | Python project | Pytube | Easy Tutorial\n"
     ]
    }
   ],
   "source": [
    "url = 'https://youtu.be/7BXJIjfJCsA'\n",
    "myVideo = YouTube(url)\n",
    "print(myVideo.title)"
   ]
  },
  {
   "cell_type": "code",
   "execution_count": 7,
   "id": "81424379",
   "metadata": {},
   "outputs": [
    {
     "name": "stdout",
     "output_type": "stream",
     "text": [
      "https://i.ytimg.com/vi/7BXJIjfJCsA/sddefault.jpg\n"
     ]
    }
   ],
   "source": [
    "print(myVideo.thumbnail_url)"
   ]
  },
  {
   "cell_type": "code",
   "execution_count": null,
   "id": "59a699c6",
   "metadata": {},
   "outputs": [],
   "source": [
    "#myVideo = myVideo.streams.get_highest_resolution\n",
    "#for stream in myVideo.streams:\n",
    "#    print(stream)"
   ]
  },
  {
   "cell_type": "code",
   "execution_count": null,
   "id": "d47e0e72",
   "metadata": {},
   "outputs": [],
   "source": [
    "myVideo.download()"
   ]
  }
 ],
 "metadata": {
  "kernelspec": {
   "display_name": "Python 3 (ipykernel)",
   "language": "python",
   "name": "python3"
  },
  "language_info": {
   "codemirror_mode": {
    "name": "ipython",
    "version": 3
   },
   "file_extension": ".py",
   "mimetype": "text/x-python",
   "name": "python",
   "nbconvert_exporter": "python",
   "pygments_lexer": "ipython3",
   "version": "3.9.12"
  }
 },
 "nbformat": 4,
 "nbformat_minor": 5
}
