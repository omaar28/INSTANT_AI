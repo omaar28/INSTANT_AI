{
 "cells": [
  {
   "cell_type": "markdown",
   "id": "62d574d3",
   "metadata": {},
   "source": [
    "# Mini Project 2\n",
    "\n",
    "The task is to scrap the **“*IMDB*”** site for the top 250 movie ratings and save the result on an excel sheet.\n",
    "\n",
    "The result should contain four columns: \n",
    "\n",
    "      1) Movie Rank\n",
    "      2) Movie Name \n",
    "      3) Year \n",
    "      4) Rating"
   ]
  },
  {
   "cell_type": "code",
   "execution_count": null,
   "id": "214e91ff",
   "metadata": {},
   "outputs": [],
   "source": [
    "from bs4 import BeautifulSoup as bs\n",
    "import requests as rq\n",
    "import pandas as pd\n",
    "import csv\n",
    "import re"
   ]
  },
  {
   "cell_type": "code",
   "execution_count": null,
   "id": "5bbf0869",
   "metadata": {},
   "outputs": [],
   "source": [
    "WebPage = rq.get(\"https://www.imdb.com/chart/top/\")\n",
    "WebPage"
   ]
  },
  {
   "cell_type": "code",
   "execution_count": null,
   "id": "3decce42",
   "metadata": {},
   "outputs": [],
   "source": [
    "WebPageContent = WebPage.content\n",
    "soup = bs(WebPageContent, 'lxml')\n",
    "print(soup.prettify())"
   ]
  },
  {
   "cell_type": "markdown",
   "id": "7883250c",
   "metadata": {},
   "source": [
    "Scraping ***Movie Names***"
   ]
  },
  {
   "cell_type": "code",
   "execution_count": null,
   "id": "6becbbe2",
   "metadata": {},
   "outputs": [],
   "source": [
    "movies = soup.find_all('td', class_ = \"titleColumn\")\n",
    "movies"
   ]
  },
  {
   "cell_type": "code",
   "execution_count": null,
   "id": "d2416987",
   "metadata": {},
   "outputs": [],
   "source": [
    "moviesName = []\n",
    "for titleColumn in movies:\n",
    "    MN  = titleColumn.a.text\n",
    "    moviesName.append(MN)\n",
    "moviesName"
   ]
  },
  {
   "cell_type": "markdown",
   "id": "4ddde791",
   "metadata": {},
   "source": [
    "Scraping ***Movie Ranks***"
   ]
  },
  {
   "cell_type": "code",
   "execution_count": null,
   "id": "c651acce",
   "metadata": {},
   "outputs": [],
   "source": [
    "RN = str(movies)\n",
    "moviesRanks = []\n",
    "maches = re.findall(r\"\\d{1,3}\\.\", RN)\n",
    "for t in maches:\n",
    "    moviesRanks.append(t)\n",
    "moviesRanks"
   ]
  },
  {
   "cell_type": "markdown",
   "id": "5bf71127",
   "metadata": {},
   "source": [
    "Scraping ***Movie Years***"
   ]
  },
  {
   "cell_type": "code",
   "execution_count": null,
   "id": "2dc6080e",
   "metadata": {},
   "outputs": [],
   "source": [
    "moviesYear = []\n",
    "print(len(movies))\n",
    "for titleColumn in movies:\n",
    "    MY  = titleColumn.span.text\n",
    "    moviesYear.append(MY)\n",
    "moviesYear"
   ]
  },
  {
   "cell_type": "markdown",
   "id": "09beb83e",
   "metadata": {},
   "source": [
    "Scraping ***Movie Ratings***"
   ]
  },
  {
   "cell_type": "code",
   "execution_count": null,
   "id": "42982d5d",
   "metadata": {},
   "outputs": [],
   "source": [
    "ratings = soup.find_all('td', class_ = \"ratingColumn imdbRating\")\n",
    "ratings"
   ]
  },
  {
   "cell_type": "code",
   "execution_count": null,
   "id": "a2fb347a",
   "metadata": {},
   "outputs": [],
   "source": [
    "moviesRating = []\n",
    "print(len(ratings))\n",
    "for ratingColumn_imdbRating in ratings:\n",
    "    MR = ratingColumn_imdbRating.strong.text\n",
    "    moviesRating.append(MR)\n",
    "moviesRating"
   ]
  },
  {
   "cell_type": "markdown",
   "id": "44384aaa",
   "metadata": {},
   "source": [
    "Saving ***RESULTS***"
   ]
  },
  {
   "cell_type": "code",
   "execution_count": null,
   "id": "84b01e29",
   "metadata": {},
   "outputs": [],
   "source": [
    "csvfile = open('movies.csv', 'w', encoding = 'utf-8')\n",
    "writer = csv.writer(csvfile)\n",
    "writer.writerow(['Movie Rank', 'Movie Name', 'Movie year', 'Movie Rating'])\n",
    "writer.writerow([moviesRanks, moviesName, moviesYear, moviesRating])\n",
    "csvfile.close()"
   ]
  }
 ],
 "metadata": {
  "kernelspec": {
   "display_name": "Python 3 (ipykernel)",
   "language": "python",
   "name": "python3"
  },
  "language_info": {
   "codemirror_mode": {
    "name": "ipython",
    "version": 3
   },
   "file_extension": ".py",
   "mimetype": "text/x-python",
   "name": "python",
   "nbconvert_exporter": "python",
   "pygments_lexer": "ipython3",
   "version": "3.9.12"
  }
 },
 "nbformat": 4,
 "nbformat_minor": 5
}
