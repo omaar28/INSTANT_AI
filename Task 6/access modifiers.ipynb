{
 "cells": [
  {
   "cell_type": "markdown",
   "id": "4bc35874",
   "metadata": {},
   "source": [
    "# Access Modifiers in Python : Public, Private and Protected\n",
    "\n",
    "### Public Access Modifier:\n",
    "\n",
    "    I) The members of a class that are declared public are easily accessible from any part of the program.\n",
    "    II) All data members and member functions of a class are public by default.\n",
    "\n",
    "### Protected Access Modifier:\n",
    "\n",
    "    I) The protected members access limited to the defined class and the (sub-classes) that are derived from defined class.\n",
    "    II) you need to prefix the single underscore (_) to the name of class variables or methods.\n",
    "    \n",
    "### Private Access Modifier:\n",
    "\n",
    "    I) The members of a class that are declared private are accessible within the class only, private access modifier is the most secure access modifier.\n",
    "    II) by adding a double underscore ‘__’ symbol before the data member of that class."
   ]
  },
  {
   "cell_type": "code",
   "execution_count": 5,
   "id": "08501579",
   "metadata": {},
   "outputs": [],
   "source": [
    "class Parentclass:\n",
    "      \n",
    "    def __init__(self, AT1, AT2, AT3):\n",
    "        self.T1 = AT1        \n",
    "        self._T2 = AT2            \n",
    "        self.__T3 = AT3 \n",
    "        self.pa = \"1234\"\n",
    "        \n",
    "    def AccessPrivateMember(self):\n",
    "        p = input(\"Enter the password to access the private member\")\n",
    "        if p == self.pa:\n",
    "            print(self.__T3)\n",
    "        else:\n",
    "            print(\"Wrong pass\")\n",
    "    \n",
    "    def setPrivateMember(self, new):\n",
    "        p = input(\"Enter the password to access the private member\")\n",
    "        if p == self.pa:\n",
    "            self.__T3 = new\n",
    "            print(self.__T3)\n",
    "        else:\n",
    "            print(\"Wrong pass\")\n",
    "        \n",
    "class childclass(Parentclass):\n",
    "     pass"
   ]
  },
  {
   "cell_type": "code",
   "execution_count": 6,
   "id": "eea15302",
   "metadata": {},
   "outputs": [],
   "source": [
    "omar = Parentclass(\"omar\", \"ayman\", \"saleh\")"
   ]
  },
  {
   "cell_type": "code",
   "execution_count": 7,
   "id": "864538cc",
   "metadata": {},
   "outputs": [
    {
     "data": {
      "text/plain": [
       "'omar'"
      ]
     },
     "execution_count": 7,
     "metadata": {},
     "output_type": "execute_result"
    }
   ],
   "source": [
    "omar.T1"
   ]
  },
  {
   "cell_type": "code",
   "execution_count": 11,
   "id": "b19db0a1",
   "metadata": {},
   "outputs": [
    {
     "data": {
      "text/plain": [
       "'ayman'"
      ]
     },
     "execution_count": 11,
     "metadata": {},
     "output_type": "execute_result"
    }
   ],
   "source": [
    "omar._T2"
   ]
  },
  {
   "cell_type": "code",
   "execution_count": 12,
   "id": "e59aec9e",
   "metadata": {},
   "outputs": [
    {
     "ename": "AttributeError",
     "evalue": "'Parentclass' object has no attribute '__T3'",
     "output_type": "error",
     "traceback": [
      "\u001b[1;31m---------------------------------------------------------------------------\u001b[0m",
      "\u001b[1;31mAttributeError\u001b[0m                            Traceback (most recent call last)",
      "Input \u001b[1;32mIn [12]\u001b[0m, in \u001b[0;36m<cell line: 1>\u001b[1;34m()\u001b[0m\n\u001b[1;32m----> 1\u001b[0m \u001b[43momar\u001b[49m\u001b[38;5;241;43m.\u001b[39;49m\u001b[43m__T3\u001b[49m\n",
      "\u001b[1;31mAttributeError\u001b[0m: 'Parentclass' object has no attribute '__T3'"
     ]
    }
   ],
   "source": [
    "omar.__T3"
   ]
  },
  {
   "cell_type": "code",
   "execution_count": 13,
   "id": "8879e379",
   "metadata": {},
   "outputs": [
    {
     "name": "stdout",
     "output_type": "stream",
     "text": [
      "Enter the password to access the private member1234\n",
      "saleh\n"
     ]
    }
   ],
   "source": [
    "omar.AccessPrivateMember()"
   ]
  },
  {
   "cell_type": "code",
   "execution_count": 14,
   "id": "82329271",
   "metadata": {},
   "outputs": [
    {
     "name": "stdout",
     "output_type": "stream",
     "text": [
      "Enter the password to access the private member56757\n",
      "Wrong pass\n"
     ]
    }
   ],
   "source": [
    "omar.AccessPrivateMember()"
   ]
  },
  {
   "cell_type": "code",
   "execution_count": 16,
   "id": "bf3c509d",
   "metadata": {},
   "outputs": [
    {
     "name": "stdout",
     "output_type": "stream",
     "text": [
      "Enter the password to access the private member1234\n",
      "sherif\n"
     ]
    }
   ],
   "source": [
    "omar.setPrivateMember(\"sherif\")"
   ]
  },
  {
   "cell_type": "code",
   "execution_count": 17,
   "id": "6f628878",
   "metadata": {},
   "outputs": [],
   "source": [
    "so = childclass(\"daif\", \"mo\", \"dai\")"
   ]
  },
  {
   "cell_type": "code",
   "execution_count": 18,
   "id": "58b8aa74",
   "metadata": {},
   "outputs": [
    {
     "data": {
      "text/plain": [
       "'daif'"
      ]
     },
     "execution_count": 18,
     "metadata": {},
     "output_type": "execute_result"
    }
   ],
   "source": [
    "so.T1"
   ]
  },
  {
   "cell_type": "code",
   "execution_count": 19,
   "id": "43bb52ad",
   "metadata": {},
   "outputs": [
    {
     "data": {
      "text/plain": [
       "'mo'"
      ]
     },
     "execution_count": 19,
     "metadata": {},
     "output_type": "execute_result"
    }
   ],
   "source": [
    "so._T2"
   ]
  },
  {
   "cell_type": "code",
   "execution_count": 20,
   "id": "2f5885e3",
   "metadata": {},
   "outputs": [
    {
     "ename": "AttributeError",
     "evalue": "'childclass' object has no attribute '__T3'",
     "output_type": "error",
     "traceback": [
      "\u001b[1;31m---------------------------------------------------------------------------\u001b[0m",
      "\u001b[1;31mAttributeError\u001b[0m                            Traceback (most recent call last)",
      "Input \u001b[1;32mIn [20]\u001b[0m, in \u001b[0;36m<cell line: 1>\u001b[1;34m()\u001b[0m\n\u001b[1;32m----> 1\u001b[0m \u001b[43mso\u001b[49m\u001b[38;5;241;43m.\u001b[39;49m\u001b[43m__T3\u001b[49m\n",
      "\u001b[1;31mAttributeError\u001b[0m: 'childclass' object has no attribute '__T3'"
     ]
    }
   ],
   "source": [
    "so.__T3"
   ]
  },
  {
   "cell_type": "code",
   "execution_count": 21,
   "id": "8228348c",
   "metadata": {},
   "outputs": [
    {
     "name": "stdout",
     "output_type": "stream",
     "text": [
      "Enter the password to access the private member1234\n",
      "dai\n"
     ]
    }
   ],
   "source": [
    "so.AccessPrivateMember()"
   ]
  },
  {
   "cell_type": "code",
   "execution_count": 22,
   "id": "8f1f4dd1",
   "metadata": {},
   "outputs": [
    {
     "name": "stdout",
     "output_type": "stream",
     "text": [
      "Enter the password to access the private member1234\n",
      "sherif\n"
     ]
    }
   ],
   "source": [
    "so.setPrivateMember(\"sherif\")"
   ]
  },
  {
   "cell_type": "code",
   "execution_count": null,
   "id": "b7882a26",
   "metadata": {},
   "outputs": [],
   "source": []
  }
 ],
 "metadata": {
  "kernelspec": {
   "display_name": "Python 3 (ipykernel)",
   "language": "python",
   "name": "python3"
  },
  "language_info": {
   "codemirror_mode": {
    "name": "ipython",
    "version": 3
   },
   "file_extension": ".py",
   "mimetype": "text/x-python",
   "name": "python",
   "nbconvert_exporter": "python",
   "pygments_lexer": "ipython3",
   "version": "3.9.12"
  }
 },
 "nbformat": 4,
 "nbformat_minor": 5
}
