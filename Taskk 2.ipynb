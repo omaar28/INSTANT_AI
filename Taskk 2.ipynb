{
 "cells": [
  {
   "cell_type": "markdown",
   "id": "f2982050",
   "metadata": {},
   "source": [
    "# 10 QUESTIONS\n"
   ]
  },
  {
   "cell_type": "markdown",
   "id": "6b404db8",
   "metadata": {},
   "source": [
    "#### 1) Write a Python program to find those numbers which are divisible by 7 and multiple of 5, between 1500 and 2700                                                                    "
   ]
  },
  {
   "cell_type": "code",
   "execution_count": 18,
   "id": "64aaf8b9",
   "metadata": {},
   "outputs": [
    {
     "name": "stdout",
     "output_type": "stream",
     "text": [
      "The number is:  1505  \n",
      "\n",
      "The number is:  1540  \n",
      "\n",
      "The number is:  1575  \n",
      "\n",
      "The number is:  1610  \n",
      "\n",
      "The number is:  1645  \n",
      "\n",
      "The number is:  1680  \n",
      "\n",
      "The number is:  1715  \n",
      "\n",
      "The number is:  1750  \n",
      "\n",
      "The number is:  1785  \n",
      "\n",
      "The number is:  1820  \n",
      "\n",
      "The number is:  1855  \n",
      "\n",
      "The number is:  1890  \n",
      "\n",
      "The number is:  1925  \n",
      "\n",
      "The number is:  1960  \n",
      "\n",
      "The number is:  1995  \n",
      "\n",
      "The number is:  2030  \n",
      "\n",
      "The number is:  2065  \n",
      "\n",
      "The number is:  2100  \n",
      "\n",
      "The number is:  2135  \n",
      "\n",
      "The number is:  2170  \n",
      "\n",
      "The number is:  2205  \n",
      "\n",
      "The number is:  2240  \n",
      "\n",
      "The number is:  2275  \n",
      "\n",
      "The number is:  2310  \n",
      "\n",
      "The number is:  2345  \n",
      "\n",
      "The number is:  2380  \n",
      "\n",
      "The number is:  2415  \n",
      "\n",
      "The number is:  2450  \n",
      "\n",
      "The number is:  2485  \n",
      "\n",
      "The number is:  2520  \n",
      "\n",
      "The number is:  2555  \n",
      "\n",
      "The number is:  2590  \n",
      "\n",
      "The number is:  2625  \n",
      "\n",
      "The number is:  2660  \n",
      "\n",
      "The number is:  2695  \n",
      "\n"
     ]
    }
   ],
   "source": [
    "for i in range(1500, 2700):\n",
    "    if i % 7 == 0 and i % 5 ==0:\n",
    "        print(\"The number is: \", i, \" \\n\")\n",
    "    else:\n",
    "        continue"
   ]
  },
  {
   "cell_type": "markdown",
   "id": "d707755f",
   "metadata": {},
   "source": [
    "#### 2) Write a Python program to convert temperatures to and from celsius, fahrenheit. \n",
    "##### [ Formula : c/5 = (f-32)/9 [ where c = temperature in celsius and f = temperature in fahrenheit ]."
   ]
  },
  {
   "cell_type": "code",
   "execution_count": 19,
   "id": "af3e916a",
   "metadata": {},
   "outputs": [
    {
     "name": "stdout",
     "output_type": "stream",
     "text": [
      "Enter the temperature in celsius: 54\n",
      "The temperature in fahrenhit:  129.2\n"
     ]
    }
   ],
   "source": [
    "c = float(input(\"Enter the temperature in celsius: \"))\n",
    "print(\"The temperature in fahrenhit: \", c * 1.8 + 32)"
   ]
  },
  {
   "attachments": {
    "image.png": {
     "image/png": "[encoded data removed]"
    }
   },
   "cell_type": "markdown",
   "id": "c907cce8",
   "metadata": {},
   "source": [
    "#### 3) Write a Python program to construct the following pattern, using a nested for loop.\n",
    "\n",
    "![image.png](attachment:image.png)"
   ]
  },
  {
   "cell_type": "code",
   "execution_count": 29,
   "id": "05687a49",
   "metadata": {},
   "outputs": [
    {
     "name": "stdout",
     "output_type": "stream",
     "text": [
      "* \n",
      "* * \n",
      "* * * \n",
      "* * * * \n",
      "* * * * * \n",
      "* * * * \n",
      "* * * \n",
      "* * \n",
      "* \n"
     ]
    }
   ],
   "source": [
    "n = 5\n",
    "m = 2 * n\n",
    "for line in range(1, m):\n",
    "    if line <= n:\n",
    "         for star in range(1, line+1):  \n",
    "                print(\"*\", end=\" \")\n",
    "         print()\n",
    "    else:\n",
    "        for star in range(2*n-line, 0, -1): print(\"*\", end=\" \")\n",
    "        print()"
   ]
  },
  {
   "cell_type": "markdown",
   "id": "df044ab6",
   "metadata": {},
   "source": [
    "#### 4) Write a Python program that accepts a word from the user and reverse it."
   ]
  },
  {
   "cell_type": "code",
   "execution_count": 30,
   "id": "3cbeea36",
   "metadata": {},
   "outputs": [
    {
     "name": "stdout",
     "output_type": "stream",
     "text": [
      "Input a word to reverse: omar\n",
      "ramo"
     ]
    }
   ],
   "source": [
    "word = input(\"Input a word to reverse: \")\n",
    "for x in range((len(word) - 1), -1, -1):\n",
    "    print(word[x], end=\"\")"
   ]
  },
  {
   "cell_type": "markdown",
   "id": "2027351c",
   "metadata": {},
   "source": [
    "#### 5) Write a Python function to find the Max of three numbers."
   ]
  },
  {
   "cell_type": "code",
   "execution_count": 31,
   "id": "6aa39284",
   "metadata": {},
   "outputs": [
    {
     "name": "stdout",
     "output_type": "stream",
     "text": [
      "Please Enter the First value: 4\n",
      "Please Enter the sec value: 5\n",
      "Please Enter the third value: 6\n",
      "The Max is:  6\n"
     ]
    }
   ],
   "source": [
    "a = int(input(\"Please Enter the First value: \"))\n",
    "b = int(input(\"Please Enter the sec value: \"))\n",
    "c = int(input(\"Please Enter the third value: \"))\n",
    "\n",
    "if a > b and a > c:\n",
    "    print(\"The Max is: \", a)\n",
    "elif b > a and b > c:\n",
    "    print(\"The Max is: \", b)\n",
    "elif c > a and c > b:\n",
    "    print(\"The Max is: \", c)\n",
    "else:\n",
    "    print(\"Either any two values or all the three values are equal\")"
   ]
  },
  {
   "cell_type": "markdown",
   "id": "2f92dcf0",
   "metadata": {},
   "source": [
    "#### 6) Write a Python function to sum all the numbers in a list."
   ]
  },
  {
   "cell_type": "code",
   "execution_count": 32,
   "id": "2011b408",
   "metadata": {},
   "outputs": [
    {
     "name": "stdout",
     "output_type": "stream",
     "text": [
      "Enter how many element in list to insert: 4\n",
      ": 1\n",
      ": 2\n",
      ": 3\n",
      ": 4\n",
      "The sum of all elements in the list:  10\n"
     ]
    }
   ],
   "source": [
    "lis = []\n",
    "y = 0\n",
    "x = int(input(\"Enter how many element in list to insert: \"))\n",
    "for i in range(x):\n",
    "    l = int(input(\": \"))\n",
    "    lis.append(l)\n",
    "for i in range(x):\n",
    "    y += lis[i]\n",
    "print(\"The sum of all elements in the list: \", y)"
   ]
  },
  {
   "cell_type": "markdown",
   "id": "d19d1c49",
   "metadata": {},
   "source": [
    "#### 7) Write a Python program that prints all the numbers from 0 to 6 except 3 and 6. Note : **Use 'continue' statement**"
   ]
  },
  {
   "cell_type": "code",
   "execution_count": 33,
   "id": "3c1f256a",
   "metadata": {},
   "outputs": [
    {
     "name": "stdout",
     "output_type": "stream",
     "text": [
      "0\n",
      "1\n",
      "2\n",
      "4\n",
      "5\n"
     ]
    }
   ],
   "source": [
    "for i in range(7):\n",
    "    if i == 3 or i == 6:\n",
    "        continue\n",
    "    else:\n",
    "        print(i)"
   ]
  },
  {
   "cell_type": "markdown",
   "id": "63c87bd7",
   "metadata": {},
   "source": [
    "#### 8) Write a Python function to calculate the factorial of a number (a non-negative integer). The function accepts the number as an argument. "
   ]
  },
  {
   "cell_type": "code",
   "execution_count": 34,
   "id": "663f6eb9",
   "metadata": {},
   "outputs": [
    {
     "name": "stdout",
     "output_type": "stream",
     "text": [
      "Enter the number to calculate its factorial: 5\n",
      "The factorial of:  5 is:  120\n"
     ]
    }
   ],
   "source": [
    "def factorial(x):\n",
    "    z = x\n",
    "    for i in range(1, x):\n",
    "        z *= (x - i)\n",
    "    print(\"The factorial of: \", x, \"is: \", z)\n",
    "\n",
    "y = int(input(\"Enter the number to calculate its factorial: \"))\n",
    "factorial(y)"
   ]
  },
  {
   "cell_type": "markdown",
   "id": "9540a9a9",
   "metadata": {},
   "source": [
    "#### 9) Write a Python function that takes a list and returns a new list with unique elements of the first list."
   ]
  },
  {
   "cell_type": "code",
   "execution_count": 35,
   "id": "b1d4dbba",
   "metadata": {},
   "outputs": [
    {
     "name": "stdout",
     "output_type": "stream",
     "text": [
      "Enter the number of elements to be in the list: 4\n",
      ": 1\n",
      ": 2\n",
      ": 2\n",
      ": 3\n",
      "\n",
      "The unique values of List\n",
      "2\n",
      "3\n",
      "1\n"
     ]
    }
   ],
   "source": [
    "def unique(list_value):\n",
    "    list_set = set(list_value)\n",
    "    unique_list = (list(list_set))\n",
    "    for x in unique_list:\n",
    "        print(x)\n",
    "\n",
    "\n",
    "x = int(input(\"Enter the number of elements to be in the list: \"))\n",
    "list1 = []\n",
    "for i in range(x):\n",
    "    l = input(\": \")\n",
    "    list1.append(l)\n",
    "print(\"\\nThe unique values of List\")\n",
    "unique(list1)"
   ]
  },
  {
   "cell_type": "markdown",
   "id": "236205a8",
   "metadata": {},
   "source": [
    "#### 10) Write a Python program to create a lambda function that adds 15 to a given number passed in as an argument, also create a lambda function that multiplies argument x with argument y and print the result. Bonus."
   ]
  },
  {
   "cell_type": "code",
   "execution_count": 36,
   "id": "cce3bb0c",
   "metadata": {},
   "outputs": [
    {
     "name": "stdout",
     "output_type": "stream",
     "text": [
      "Enter 2 numbers to be multiplied together\n",
      "Enter the 1st number: 3\n",
      "Enter the 2nd number: 4\n",
      "Enter a number to be added by 15: 56\n",
      "56  + 15 =  71\n",
      "3  x  4  =  12\n"
     ]
    }
   ],
   "source": [
    "print(\"Enter 2 numbers to be multiplied together\")\n",
    "y = int(input(\"Enter the 1st number: \"))\n",
    "\n",
    "add = lambda z: z + 15\n",
    "mul = lambda x: x * y\n",
    "\n",
    "x = int(input(\"Enter the 2nd number: \"))\n",
    "z = int(input(\"Enter a number to be added by 15: \"))\n",
    "\n",
    "print(z, \" + 15 = \", add(z))\n",
    "print(y, \" x \", x, \" = \", mul(x))"
   ]
  },
  {
   "cell_type": "code",
   "execution_count": null,
   "id": "365185c1",
   "metadata": {},
   "outputs": [],
   "source": []
  }
 ],
 "metadata": {
  "kernelspec": {
   "display_name": "Python 3 (ipykernel)",
   "language": "python",
   "name": "python3"
  },
  "language_info": {
   "codemirror_mode": {
    "name": "ipython",
    "version": 3
   },
   "file_extension": ".py",
   "mimetype": "text/x-python",
   "name": "python",
   "nbconvert_exporter": "python",
   "pygments_lexer": "ipython3",
   "version": "3.9.12"
  }
 },
 "nbformat": 4,
 "nbformat_minor": 5
}
