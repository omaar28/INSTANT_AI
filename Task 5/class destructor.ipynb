{
 "cells": [
  {
   "cell_type": "markdown",
   "id": "e12da895",
   "metadata": {},
   "source": [
    "# Write a class destructor \n"
   ]
  },
  {
   "cell_type": "code",
   "execution_count": 1,
   "id": "b6029669",
   "metadata": {},
   "outputs": [
    {
     "name": "stdout",
     "output_type": "stream",
     "text": [
      "Hello, omar \n",
      "BUE, brilliant \n"
     ]
    }
   ],
   "source": [
    "class Person:\n",
    "    def __init__(self, name):\n",
    "        self.name = name\n",
    "        print(\"Hello, {} \".format(self.name))\n",
    "\n",
    "    def __del__(self):\n",
    "        print(\"see u soon, {} \".format(self.name))\n",
    "\n",
    "\n",
    "class Student(Person):\n",
    "    def __init__(self, name, uni):\n",
    "        super().__init__(name)\n",
    "        self.uni = uni\n",
    "        print(\"{}, brilliant \".format(self.uni))\n",
    "\n",
    "    def __del__(self):\n",
    "        super().__del__()\n",
    "        print(\"we will contact u later \")\n",
    "\n",
    "\n",
    "omar = Student(\"omar\", \"BUE\")"
   ]
  },
  {
   "cell_type": "code",
   "execution_count": null,
   "id": "8a48526e",
   "metadata": {},
   "outputs": [],
   "source": []
  }
 ],
 "metadata": {
  "kernelspec": {
   "display_name": "Python 3 (ipykernel)",
   "language": "python",
   "name": "python3"
  },
  "language_info": {
   "codemirror_mode": {
    "name": "ipython",
    "version": 3
   },
   "file_extension": ".py",
   "mimetype": "text/x-python",
   "name": "python",
   "nbconvert_exporter": "python",
   "pygments_lexer": "ipython3",
   "version": "3.9.12"
  }
 },
 "nbformat": 4,
 "nbformat_minor": 5
}
