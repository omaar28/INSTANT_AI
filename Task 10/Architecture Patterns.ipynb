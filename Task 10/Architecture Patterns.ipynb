{
 "cells": [
  {
   "cell_type": "markdown",
   "id": "e04c8774",
   "metadata": {},
   "source": [
    "# Architecture Patterns \n",
    "\n",
    "The architectural pattern captures the design structures of various systems and elements of software so that they can be reused.\n",
    "\n",
    "### Types:\n",
    "   1) [ client-server ](https://www.redhat.com/architect/circuit-breaker-architecture-pattern) <br>\n",
    "   2) [circuit breaker ](https://www.redhat.com/architect/circuit-breaker-architecture-pattern) <br>\n",
    "   3) [controller-responder](https://www.redhat.com/architect/5-essential-patterns-software-architecture#controller-responder) <br>\n",
    "   4) [event sourcing](https://www.redhat.com/architect/pros-and-cons-event-sourcing-architecture-pattern) <br>\n",
    "   5) [microservices ](https://www.redhat.com/architect/5-essential-patterns-software-architecture#microservices) <br>\n",
    "   6) [static content hosting ](https://www.redhat.com/architect/pros-and-cons-static-content-hosting-architecture-pattern) <br>"
   ]
  },
  {
   "cell_type": "code",
   "execution_count": null,
   "id": "3123f5fa",
   "metadata": {},
   "outputs": [],
   "source": []
  }
 ],
 "metadata": {
  "kernelspec": {
   "display_name": "Python 3 (ipykernel)",
   "language": "python",
   "name": "python3"
  },
  "language_info": {
   "codemirror_mode": {
    "name": "ipython",
    "version": 3
   },
   "file_extension": ".py",
   "mimetype": "text/x-python",
   "name": "python",
   "nbconvert_exporter": "python",
   "pygments_lexer": "ipython3",
   "version": "3.9.12"
  }
 },
 "nbformat": 4,
 "nbformat_minor": 5
}
