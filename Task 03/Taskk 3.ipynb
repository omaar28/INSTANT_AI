{
 "cells": [
  {
   "cell_type": "markdown",
   "id": "82a67bba",
   "metadata": {},
   "source": [
    "# Binary search by 2 ways (RECURSION, ITERATION):\n",
    "\n",
    "Binary search algorithms and code using python:\n",
    " 1) What is binary search algorithm:?\n",
    "\n",
    "         i) Data collection should be in the sorted form.\n",
    "         ii) Binary search looks for a particular item by comparing the middle most item of the collection.\n",
    "\n",
    "- match occurs --> the index of item is returned\n",
    "- middle item is greater --> the item is searched in the sub-array to the left of the middle item\n",
    "- middle item is smaller --> the item is searched for in the sub-array to the right of the middle item\n",
    "  \n",
    "       iii) This process continues on the sub-array as well until the size of the subarray reduces to zero.\n",
    "\n",
    " Half of the array = low + (high - low) / 2"
   ]
  },
  {
   "cell_type": "markdown",
   "id": "d87a4a25",
   "metadata": {},
   "source": [
    "### RECURSION"
   ]
  },
  {
   "cell_type": "code",
   "execution_count": 5,
   "id": "8839426e",
   "metadata": {},
   "outputs": [
    {
     "name": "stdout",
     "output_type": "stream",
     "text": [
      "Enter number of elements in the list: 3\n",
      ": 3\n",
      ": 4\n",
      ": 5\n",
      "Enter the number to return its index: 4\n",
      "4 its index is:  1\n"
     ]
    }
   ],
   "source": [
    "def BS(list, l, h, n):\n",
    "    list.sort()\n",
    "    if l < h:\n",
    "        m = int(l + (h - l) / 2)\n",
    "        if lis[m] == n:\n",
    "            return m\n",
    "        elif n < lis[m]:\n",
    "            h = m - 1\n",
    "            BS(list, l, h, n)\n",
    "        elif n > lis[m]:\n",
    "            l = m + 1\n",
    "            BS(list, l, h, n)\n",
    "    else:\n",
    "        return -1\n",
    "\n",
    "\n",
    "lis = []\n",
    "h = int(input(\"Enter number of elements in the list: \"))\n",
    "for i in range(h):\n",
    "    x = int(input(\": \"))\n",
    "    lis.append(x)\n",
    "n = int(input(\"Enter the number to return its index: \"))\n",
    "print(n, \"its index is: \", BS(lis, 0, h, n))"
   ]
  },
  {
   "cell_type": "markdown",
   "id": "16bb35be",
   "metadata": {},
   "source": [
    "### ITERATION"
   ]
  },
  {
   "cell_type": "code",
   "execution_count": 7,
   "id": "db0a81b2",
   "metadata": {},
   "outputs": [
    {
     "name": "stdout",
     "output_type": "stream",
     "text": [
      "Enter number of elements in the list: 5\n",
      ": 1\n",
      ": 2\n",
      ": 3\n",
      ": 4\n",
      ": 5\n",
      "Enter the number to return its index: 3\n",
      "3  its index is:  2\n"
     ]
    }
   ],
   "source": [
    "l = 0\n",
    "lis = []\n",
    "h = int(input(\"Enter number of elements in the list: \"))\n",
    "for i in range(h):\n",
    "    x = int(input(\": \"))\n",
    "    lis.append(x)\n",
    "n = int(input(\"Enter the number to return its index: \"))\n",
    "lis.sort()\n",
    "while l < h:\n",
    "    mid = int(l + (h - l) / 2)\n",
    "    if lis[mid] == n:\n",
    "        print(n, \" its index is: \", mid)\n",
    "        break\n",
    "    elif n < lis[mid]:\n",
    "        h = mid - 1\n",
    "    elif n > lis[mid]:\n",
    "        l = mid + 1\n",
    "    else:\n",
    "        print(\"-1\")"
   ]
  },
  {
   "cell_type": "code",
   "execution_count": null,
   "id": "10544e1c",
   "metadata": {},
   "outputs": [],
   "source": []
  }
 ],
 "metadata": {
  "kernelspec": {
   "display_name": "Python 3 (ipykernel)",
   "language": "python",
   "name": "python3"
  },
  "language_info": {
   "codemirror_mode": {
    "name": "ipython",
    "version": 3
   },
   "file_extension": ".py",
   "mimetype": "text/x-python",
   "name": "python",
   "nbconvert_exporter": "python",
   "pygments_lexer": "ipython3",
   "version": "3.9.12"
  }
 },
 "nbformat": 4,
 "nbformat_minor": 5
}
