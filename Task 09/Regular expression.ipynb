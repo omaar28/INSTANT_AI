{
 "cells": [
  {
   "cell_type": "markdown",
   "id": "cf455540",
   "metadata": {},
   "source": [
    "# How to read from file"
   ]
  },
  {
   "cell_type": "code",
   "execution_count": 1,
   "id": "d4e10435",
   "metadata": {},
   "outputs": [],
   "source": [
    "import pandas as pd"
   ]
  },
  {
   "cell_type": "code",
   "execution_count": 10,
   "id": "195d5c41",
   "metadata": {},
   "outputs": [],
   "source": [
    "txtdata = pd.read_table('C:\\\\Users\\\\Omar\\\\Desktop\\\\extr.txt')"
   ]
  },
  {
   "cell_type": "code",
   "execution_count": 11,
   "id": "ebf2c93f",
   "metadata": {},
   "outputs": [
    {
     "data": {
      "text/html": [
       "<div>\n",
       "<style scoped>\n",
       "    .dataframe tbody tr th:only-of-type {\n",
       "        vertical-align: middle;\n",
       "    }\n",
       "\n",
       "    .dataframe tbody tr th {\n",
       "        vertical-align: top;\n",
       "    }\n",
       "\n",
       "    .dataframe thead th {\n",
       "        text-align: right;\n",
       "    }\n",
       "</style>\n",
       "<table border=\"1\" class=\"dataframe\">\n",
       "  <thead>\n",
       "    <tr style=\"text-align: right;\">\n",
       "      <th></th>\n",
       "      <th>Total Amt. : $179720 (Estimated)\\nInvestigator: Stephen R. Palumbi (Principal Investigator</th>\n",
       "    </tr>\n",
       "  </thead>\n",
       "  <tbody>\n",
       "    <tr>\n",
       "      <th>0</th>\n",
       "      <td>&lt;!DOCTYPE html&gt;</td>\n",
       "    </tr>\n",
       "    <tr>\n",
       "      <th>1</th>\n",
       "      <td>&lt;html xmlns:fb=\"http://www.facebook.com/2008/f...</td>\n",
       "    </tr>\n",
       "    <tr>\n",
       "      <th>2</th>\n",
       "      <td>&lt;head&gt;</td>\n",
       "    </tr>\n",
       "    <tr>\n",
       "      <th>3</th>\n",
       "      <td>&lt;meta charset=\"utf-8\"/&gt;</td>\n",
       "    </tr>\n",
       "    <tr>\n",
       "      <th>4</th>\n",
       "      <td>&lt;script type=\"text/javascript\"&gt;</td>\n",
       "    </tr>\n",
       "  </tbody>\n",
       "</table>\n",
       "</div>"
      ],
      "text/plain": [
       "  Total Amt. : $179720 (Estimated)\\nInvestigator: Stephen R. Palumbi (Principal Investigator\n",
       "0                                    <!DOCTYPE html>                                        \n",
       "1  <html xmlns:fb=\"http://www.facebook.com/2008/f...                                        \n",
       "2                                             <head>                                        \n",
       "3                            <meta charset=\"utf-8\"/>                                        \n",
       "4                    <script type=\"text/javascript\">                                        "
      ]
     },
     "execution_count": 11,
     "metadata": {},
     "output_type": "execute_result"
    }
   ],
   "source": [
    "txtdata.head()"
   ]
  },
  {
   "cell_type": "markdown",
   "id": "55e8ef75",
   "metadata": {},
   "source": [
    "# Use regular expression"
   ]
  },
  {
   "cell_type": "code",
   "execution_count": 5,
   "id": "b16c62f7",
   "metadata": {},
   "outputs": [],
   "source": [
    "import re"
   ]
  },
  {
   "cell_type": "code",
   "execution_count": null,
   "id": "a81fd3dd",
   "metadata": {},
   "outputs": [],
   "source": [
    "matche = re.findall(r\"\\d{1,3)\\., txtdata)"
   ]
  },
  {
   "cell_type": "code",
   "execution_count": null,
   "id": "5872cb1e",
   "metadata": {},
   "outputs": [],
   "source": [
    "matches = re.findall(r\"\\d\", txtdata)"
   ]
  },
  {
   "cell_type": "code",
   "execution_count": null,
   "id": "01fc413b",
   "metadata": {},
   "outputs": [],
   "source": [
    "m = re.findall(r\"\\d{3}[-.*]\\w[a - z- 1 5]\\.[^\\d]\", txtdata)"
   ]
  }
 ],
 "metadata": {
  "kernelspec": {
   "display_name": "Python 3 (ipykernel)",
   "language": "python",
   "name": "python3"
  },
  "language_info": {
   "codemirror_mode": {
    "name": "ipython",
    "version": 3
   },
   "file_extension": ".py",
   "mimetype": "text/x-python",
   "name": "python",
   "nbconvert_exporter": "python",
   "pygments_lexer": "ipython3",
   "version": "3.9.12"
  }
 },
 "nbformat": 4,
 "nbformat_minor": 5
}
