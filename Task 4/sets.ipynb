{
 "cells": [
  {
   "cell_type": "markdown",
   "id": "f3541e2d",
   "metadata": {},
   "source": [
    "# Unordered / Multi Sets \n",
    "\n",
    "When we write ***set()*** it's **Singly** and **Unordered**"
   ]
  },
  {
   "cell_type": "markdown",
   "id": "ee7fa518",
   "metadata": {},
   "source": [
    "### Unsorted-set (Ordered)\n"
   ]
  },
  {
   "cell_type": "code",
   "execution_count": 3,
   "id": "f78bd595",
   "metadata": {},
   "outputs": [
    {
     "name": "stdout",
     "output_type": "stream",
     "text": [
      "Collecting ordered-set\n",
      "  Downloading ordered_set-4.1.0-py3-none-any.whl (7.6 kB)\n",
      "Installing collected packages: ordered-set\n",
      "Successfully installed ordered-set-4.1.0\n",
      "Note: you may need to restart the kernel to use updated packages.\n"
     ]
    }
   ],
   "source": [
    "pip install ordered-set"
   ]
  },
  {
   "cell_type": "code",
   "execution_count": 5,
   "id": "efd2653c",
   "metadata": {},
   "outputs": [],
   "source": [
    "from ordered_set import OrderedSet\n"
   ]
  },
  {
   "cell_type": "code",
   "execution_count": 6,
   "id": "3c6f4651",
   "metadata": {},
   "outputs": [
    {
     "data": {
      "text/plain": [
       "OrderedSet(['a', 'b', 'r', 'c', 'd'])"
      ]
     },
     "execution_count": 6,
     "metadata": {},
     "output_type": "execute_result"
    }
   ],
   "source": [
    "letters = OrderedSet('abracadabra')\n",
    "letters"
   ]
  },
  {
   "cell_type": "code",
   "execution_count": 7,
   "id": "bee35a21",
   "metadata": {},
   "outputs": [
    {
     "data": {
      "text/plain": [
       "True"
      ]
     },
     "execution_count": 7,
     "metadata": {},
     "output_type": "execute_result"
    }
   ],
   "source": [
    "'r' in letters"
   ]
  },
  {
   "cell_type": "code",
   "execution_count": 8,
   "id": "f217afe6",
   "metadata": {},
   "outputs": [
    {
     "data": {
      "text/plain": [
       "2"
      ]
     },
     "execution_count": 8,
     "metadata": {},
     "output_type": "execute_result"
    }
   ],
   "source": [
    "letters.index('r')"
   ]
  },
  {
   "cell_type": "code",
   "execution_count": 9,
   "id": "18f65924",
   "metadata": {},
   "outputs": [
    {
     "data": {
      "text/plain": [
       "'r'"
      ]
     },
     "execution_count": 9,
     "metadata": {},
     "output_type": "execute_result"
    }
   ],
   "source": [
    "letters[2]"
   ]
  },
  {
   "cell_type": "code",
   "execution_count": 10,
   "id": "1dae9083",
   "metadata": {},
   "outputs": [
    {
     "data": {
      "text/plain": [
       "2"
      ]
     },
     "execution_count": 10,
     "metadata": {},
     "output_type": "execute_result"
    }
   ],
   "source": [
    "letters.add('r')"
   ]
  },
  {
   "cell_type": "code",
   "execution_count": 11,
   "id": "5807ce93",
   "metadata": {},
   "outputs": [
    {
     "data": {
      "text/plain": [
       "5"
      ]
     },
     "execution_count": 11,
     "metadata": {},
     "output_type": "execute_result"
    }
   ],
   "source": [
    "letters.add('x')"
   ]
  },
  {
   "cell_type": "markdown",
   "id": "0d1a8126",
   "metadata": {},
   "source": [
    "### Multi-set\n"
   ]
  },
  {
   "cell_type": "code",
   "execution_count": 12,
   "id": "494a171e",
   "metadata": {},
   "outputs": [
    {
     "name": "stdout",
     "output_type": "stream",
     "text": [
      "Collecting multiset\n",
      "  Using cached multiset-3.0.1-py2.py3-none-any.whl (9.6 kB)\n",
      "Installing collected packages: multiset\n",
      "Successfully installed multiset-3.0.1\n",
      "Note: you may need to restart the kernel to use updated packages.\n"
     ]
    }
   ],
   "source": [
    "pip install multiset"
   ]
  },
  {
   "cell_type": "code",
   "execution_count": 14,
   "id": "60eb45ca",
   "metadata": {},
   "outputs": [],
   "source": [
    "from multiset import Multiset"
   ]
  },
  {
   "cell_type": "code",
   "execution_count": 15,
   "id": "121d48a8",
   "metadata": {},
   "outputs": [
    {
     "data": {
      "text/plain": [
       "['a', 'a', 'b', 'c']"
      ]
     },
     "execution_count": 15,
     "metadata": {},
     "output_type": "execute_result"
    }
   ],
   "source": [
    "set1 = Multiset('aab')\n",
    "set2 = Multiset('abc')\n",
    "sorted(set1 | set2)"
   ]
  },
  {
   "cell_type": "code",
   "execution_count": 16,
   "id": "6864030e",
   "metadata": {},
   "outputs": [
    {
     "data": {
      "text/plain": [
       "True"
      ]
     },
     "execution_count": 16,
     "metadata": {},
     "output_type": "execute_result"
    }
   ],
   "source": [
    "Multiset('aab') >= {'a', 'b'}"
   ]
  },
  {
   "cell_type": "code",
   "execution_count": 17,
   "id": "0296ce43",
   "metadata": {},
   "outputs": [
    {
     "data": {
      "text/plain": [
       "['a', 'a', 'b', 'b', 'c']"
      ]
     },
     "execution_count": 17,
     "metadata": {},
     "output_type": "execute_result"
    }
   ],
   "source": [
    "set1.update('bc')\n",
    "sorted(set1)"
   ]
  }
 ],
 "metadata": {
  "kernelspec": {
   "display_name": "Python 3 (ipykernel)",
   "language": "python",
   "name": "python3"
  },
  "language_info": {
   "codemirror_mode": {
    "name": "ipython",
    "version": 3
   },
   "file_extension": ".py",
   "mimetype": "text/x-python",
   "name": "python",
   "nbconvert_exporter": "python",
   "pygments_lexer": "ipython3",
   "version": "3.9.12"
  }
 },
 "nbformat": 4,
 "nbformat_minor": 5
}
