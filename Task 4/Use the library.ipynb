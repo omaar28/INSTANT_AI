{
 "cells": [
  {
   "cell_type": "code",
   "execution_count": 3,
   "id": "505886b7",
   "metadata": {},
   "outputs": [
    {
     "name": "stdout",
     "output_type": "stream",
     "text": [
      "Enter number of elements in the list: 5\n",
      ": 1\n",
      ": 2\n",
      ": 3\n",
      ": 4\n",
      ": 5\n",
      "Enter the number to return its index: 3\n",
      "3 its index is:  2\n"
     ]
    }
   ],
   "source": [
    "from BinSer import BinSer\n",
    "lis = []\n",
    "h = int(input(\"Enter number of elements in the list: \"))\n",
    "for i in range(h):\n",
    "    x = int(input(\": \"))\n",
    "    lis.append(x)\n",
    "n = int(input(\"Enter the number to return its index: \"))\n",
    "print(n, \"its index is: \", BinSer(lis, 0, h, n))\n"
   ]
  },
  {
   "cell_type": "code",
   "execution_count": null,
   "id": "ebfd2615",
   "metadata": {},
   "outputs": [],
   "source": []
  }
 ],
 "metadata": {
  "kernelspec": {
   "display_name": "Python 3 (ipykernel)",
   "language": "python",
   "name": "python3"
  },
  "language_info": {
   "codemirror_mode": {
    "name": "ipython",
    "version": 3
   },
   "file_extension": ".py",
   "mimetype": "text/x-python",
   "name": "python",
   "nbconvert_exporter": "python",
   "pygments_lexer": "ipython3",
   "version": "3.9.12"
  }
 },
 "nbformat": 4,
 "nbformat_minor": 5
}
