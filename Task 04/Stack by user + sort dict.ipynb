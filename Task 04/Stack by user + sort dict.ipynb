{
 "cells": [
  {
   "cell_type": "markdown",
   "id": "02088b31",
   "metadata": {},
   "source": [
    "## How to sort dictionary by keys:"
   ]
  },
  {
   "cell_type": "markdown",
   "id": "cde355c0",
   "metadata": {},
   "source": [
    "### I)"
   ]
  },
  {
   "cell_type": "code",
   "execution_count": 3,
   "id": "cb67f2f4",
   "metadata": {},
   "outputs": [
    {
     "name": "stdout",
     "output_type": "stream",
     "text": [
      "ayman 2\n",
      "mariam 3\n",
      "omar 40\n",
      "tareq 1\n"
     ]
    }
   ],
   "source": [
    "dict = {'omar':40, 'ayman':2, 'tareq':1, 'mariam':3}\n",
    "for k in sorted(dict): \n",
    "    print(\"%s\" % k, dict[k])"
   ]
  },
  {
   "cell_type": "markdown",
   "id": "e79062ab",
   "metadata": {},
   "source": [
    "### II)"
   ]
  },
  {
   "cell_type": "code",
   "execution_count": 11,
   "id": "ae581e38",
   "metadata": {},
   "outputs": [
    {
     "name": "stdout",
     "output_type": "stream",
     "text": [
      "2: 2\n",
      "4: 40\n",
      "7: 3\n",
      "9: 1\n"
     ]
    }
   ],
   "source": [
    "mydict = {4:40, 2:2, 9:1, 7:3}\n",
    "for key in sorted(mydict): \n",
    "    print(\"%s: %s\" % (key, mydict[key]))"
   ]
  },
  {
   "cell_type": "markdown",
   "id": "dfcd78de",
   "metadata": {},
   "source": [
    "### Create a function receives stack elements as inputs from user while not equal to zero\n"
   ]
  },
  {
   "cell_type": "code",
   "execution_count": 14,
   "id": "35600044",
   "metadata": {},
   "outputs": [
    {
     "name": "stdout",
     "output_type": "stream",
     "text": [
      "Enter an element to be added to the stack, to break enter (0): 1\n",
      "Enter another element, to break enter (0): 2\n",
      "Enter another element, to break enter (0): 3\n",
      "Enter another element, to break enter (0): 4\n",
      "Enter another element, to break enter (0): 0\n",
      "the number entered = 0, program ends!\n"
     ]
    }
   ],
   "source": [
    "from queue import LifoQueue as stack\n",
    "\n",
    "s = stack()\n",
    "\n",
    "\n",
    "def put(x):\n",
    "    if x != 0:\n",
    "        s.put(x)\n",
    "        put(int(input(\"Enter another element, to break enter (0): \")))\n",
    "    else:\n",
    "        print(\"the number entered = 0, program ends!\")\n",
    "\n",
    "\n",
    "put(int(input(\"Enter an element to be added to the stack, to break enter (0): \")))\n"
   ]
  },
  {
   "cell_type": "code",
   "execution_count": null,
   "id": "9cc7144b",
   "metadata": {},
   "outputs": [],
   "source": []
  }
 ],
 "metadata": {
  "kernelspec": {
   "display_name": "Python 3 (ipykernel)",
   "language": "python",
   "name": "python3"
  },
  "language_info": {
   "codemirror_mode": {
    "name": "ipython",
    "version": 3
   },
   "file_extension": ".py",
   "mimetype": "text/x-python",
   "name": "python",
   "nbconvert_exporter": "python",
   "pygments_lexer": "ipython3",
   "version": "3.9.12"
  }
 },
 "nbformat": 4,
 "nbformat_minor": 5
}
