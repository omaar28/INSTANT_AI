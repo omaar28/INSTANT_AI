{
 "cells": [
  {
   "cell_type": "markdown",
   "id": "9ac83033",
   "metadata": {},
   "source": [
    "# About Cython\n",
    "\n",
    "Cython is an optimising static compiler for both the **Python** programming language and the extended Cython programming language (based on Pyrex). It makes writing **C** extensions for Python as easy as Python itself.\n",
    "\n",
    "\n",
    "### Cython gives you the combined power of Python and C to let you:\n",
    "\n",
    "    1) write Python code that calls back and forth from and to C or C++ code natively at any point.\n",
    "    2) easily tune readable Python code into plain C performance by adding static type declarations, also in Python syntax.\n",
    "    3) use combined source code level debugging to find bugs in your Python, Cython and C code.\n",
    "    4) interact efficiently with large data sets, e.g. using multi-dimensional NumPy arrays.\n",
    "    5) quickly build your applications within the large, mature and widely used CPython ecosystem.\n",
    "    6) integrate natively with existing code and data from legacy, low-level or high-performance libraries and applications.\n",
    " \n",
    "\n",
    "The Cython language is a superset of the ***Python language*** that additionally supports calling ***C functions*** and declaring C types on variables and class attributes. This allows the compiler to generate very ***efficient C code*** from Cython code. The C code is ***generated once*** and then compiles with all major C/C++ compilers in CPython 2.6, 2.7 (2.4+ with Cython 0.20.x) as well as 3.3 and all later versions. We regularly run integration tests against all supported CPython versions and their latest in-development branches to make sure that the generated code stays widely compatible and well adapted to each version. PyPy support is work in progress (on both sides) and is considered mostly usable since Cython 0.17. The latest PyPy version is always recommended here.\n",
    "\n",
    "All of this makes Cython the ideal language for ***wrapping*** external C libraries, ***embedding*** CPython into existing applications, and for ***fast C modules*** that speed up the execution of Python code.\n",
    "\n",
    "\n",
    "### About history:\n",
    "\n",
    "Cython is a derivative of the ***Pyrex language***, and supports more features and optimizations than Pyrex.[16][17] Cython was forked from Pyrex in 2007 by developers of the Sage computer algebra package, because they were unhappy with Pyrex's limitations and could not get patches accepted by Pyrex's maintainer Greg Ewing, who envisioned a much smaller scope for his tool than the Sage developers had in mind. They then forked Pyrex as SageX. When they found people were downloading Sage just to get SageX, and developers of other packages (including Stefan Behnel, who maintains the XML library LXML) were also maintaining forks of Pyrex, SageX was split off the Sage project and merged with cython-lxml to become Cython.[18]\n",
    "\n",
    "Cython files have a .pyx extension. At its most basic, Cython code looks exactly like Python code. However, whereas standard Python is dynamically typed, in Cython, types can optionally be provided, allowing for improved performance, allowing loops to be converted into C loops where possible. For example:\n",
    "```python\n",
    "def primes(int kmax): # The argument will be converted to int or raise a TypeError.\n",
    "    cdef int n, k, i  # These variables are declared with C types.\n",
    "    cdef int p[1000]  # Another C type\n",
    "    result = []       # A Python type\n",
    "    \n",
    "    if kmax > 1000:\n",
    "        kmax = 1000\n",
    "        \n",
    "    k = 0\n",
    "    n = 2\n",
    "    \n",
    "    while k < kmax:\n",
    "        i = 0\n",
    "        \n",
    "        while i < k and n % p[i] != 0:\n",
    "            i = i + 1\n",
    "            \n",
    "        if i == k:\n",
    "            p[k] = n\n",
    "            k = k + 1\n",
    "            result.append(n)\n",
    "            \n",
    "        n = n + 1\n",
    "        \n",
    "    return result\n",
    "```"
   ]
  }
 ],
 "metadata": {
  "kernelspec": {
   "display_name": "Python 3 (ipykernel)",
   "language": "python",
   "name": "python3"
  },
  "language_info": {
   "codemirror_mode": {
    "name": "ipython",
    "version": 3
   },
   "file_extension": ".py",
   "mimetype": "text/x-python",
   "name": "python",
   "nbconvert_exporter": "python",
   "pygments_lexer": "ipython3",
   "version": "3.9.12"
  }
 },
 "nbformat": 4,
 "nbformat_minor": 5
}
