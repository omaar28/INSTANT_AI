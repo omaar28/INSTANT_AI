{
 "cells": [
  {
   "cell_type": "code",
   "execution_count": 2,
   "id": "c56447e7",
   "metadata": {},
   "outputs": [],
   "source": [
    "class Library:    \n",
    "    def __init__(self, list, libraryName):\n",
    "        self.LOB = list\n",
    "        self.LN = libraryName\n",
    "        self.lendDict = {}\n",
    "        print(\"listOfBooks and libraryName added successfully\")\n",
    "\n",
    "    def displayBook(self):\n",
    "        print(\"The available books are: \")\n",
    "        x = len(self.LOB)\n",
    "        for i in range(x):\n",
    "            print(str(i + 1) + \" is: \" + str(self.LOB[i]))\n",
    "\n",
    "    def addBook(self):\n",
    "        x = int(input(\"Enter how many book to append: \"))\n",
    "        for i in range(x):\n",
    "            l = input(\"The name of book \" + str((i + 1)) + \") \")\n",
    "            self.LOB.append(l)\n",
    "\n",
    "    def lendBook(self, user, book):\n",
    "        if book not in self.lendDict.keys():\n",
    "            self.lendDict.update({book:user})\n",
    "            print(\"Lender-Book database has been updated. You can take the book now\")\n",
    "        else:\n",
    "            print(f\"Book is already being used by {self.lendDict[book]}\")\n",
    "    def returnBook(self, book):\n",
    "        self.lendDict.pop(book)"
   ]
  },
  {
   "cell_type": "code",
   "execution_count": 3,
   "id": "d1dee66a",
   "metadata": {},
   "outputs": [
    {
     "name": "stdout",
     "output_type": "stream",
     "text": [
      "listOfBooks and libraryName added successfully\n"
     ]
    }
   ],
   "source": [
    "Books = Library(['GOT', 'Embedded system', 'Robotics', 'C++','python'], \"AllBooks\")"
   ]
  },
  {
   "cell_type": "code",
   "execution_count": 8,
   "id": "69d68d29",
   "metadata": {},
   "outputs": [
    {
     "name": "stdout",
     "output_type": "stream",
     "text": [
      "Welcome to the AllBooks library. Enter your choice to continue\n",
      "1. Display Books\n",
      "2. Lend a Book\n",
      "3. Add a Book\n",
      "4. Return a Book\n",
      ": 1\n",
      "The available books are: \n",
      "1 is: GOT\n",
      "2 is: Embedded system\n",
      "3 is: Robotics\n",
      "4 is: C++\n",
      "5 is: python\n",
      "Do u want to continue? press (y) for yes and (n) for no: n\n"
     ]
    }
   ],
   "source": [
    "while(1):\n",
    "        print(f\"Welcome to the {Books.LN} library. Enter your choice to continue\")\n",
    "        print(\"1. Display Books\")\n",
    "        print(\"2. Lend a Book\")\n",
    "        print(\"3. Add a Book\")\n",
    "        print(\"4. Return a Book\")\n",
    "        UC = input(\": \")  \n",
    "        \n",
    "        if UC not in ['1', '2', '3', '4']:\n",
    "            print(\"Please enter a valid option\")\n",
    "            continue\n",
    "        else:\n",
    "            UC = int(UC)\n",
    "            \n",
    "        if UC == 1:\n",
    "            Books.displayBook()\n",
    "\n",
    "        elif UC == 2:\n",
    "            book = input(\"Enter the name of the book you want to lend: \")\n",
    "            user = input(\"Enter your name\")\n",
    "            Books.lendBook(user, book)\n",
    "\n",
    "        elif UC == 3:\n",
    "            book = input(\"Enter the name of the book you want to add: \")\n",
    "            Books.addBook(book)\n",
    "\n",
    "        elif UC == 4:\n",
    "            book = input(\"Enter the name of the book you want to return: \")\n",
    "            Books.returnBook(book)\n",
    "\n",
    "        else:\n",
    "            print(\"Not a valid option\")\n",
    "            \n",
    "        choise = input(\"Do u want to continue? press (y) for yes and (n) for no: \")\n",
    "        if choise == 'n':\n",
    "            break\n",
    "        else:\n",
    "            continue"
   ]
  },
  {
   "cell_type": "code",
   "execution_count": null,
   "id": "792245da",
   "metadata": {},
   "outputs": [],
   "source": []
  }
 ],
 "metadata": {
  "kernelspec": {
   "display_name": "Python 3 (ipykernel)",
   "language": "python",
   "name": "python3"
  },
  "language_info": {
   "codemirror_mode": {
    "name": "ipython",
    "version": 3
   },
   "file_extension": ".py",
   "mimetype": "text/x-python",
   "name": "python",
   "nbconvert_exporter": "python",
   "pygments_lexer": "ipython3",
   "version": "3.9.12"
  }
 },
 "nbformat": 4,
 "nbformat_minor": 5
}
