{
 "cells": [
  {
   "cell_type": "markdown",
   "id": "0d980528",
   "metadata": {},
   "source": [
    "# Mini Project 1 (Create a library class)\n",
    "\n",
    "### Add 4 functions:\n",
    "    - Add book\n",
    "    - Return book\n",
    "    - Display book\n",
    "    - Lend book - (who owns the book if not present)\n",
    "    \n",
    "Optional:-\n",
    "Maintain a ***dictionary*** for the users who own a book. Dictionary should take *book name as a key* and *name of the person as a value*. Whenever you lend a book to a user, you should maintain a dictionary"
   ]
  },
  {
   "cell_type": "markdown",
   "id": "623cfa73",
   "metadata": {},
   "source": [
    "### Library Class"
   ]
  },
  {
   "cell_type": "code",
   "execution_count": 1,
   "id": "7cf6a68f",
   "metadata": {},
   "outputs": [],
   "source": [
    "class Library:\n",
    "    def __init__(self, list, name):\n",
    "        self.booksList = list\n",
    "        self.libname = name\n",
    "        self.lendDict = {}\n",
    "\n",
    "    def displayBooks(self):\n",
    "        print(f\"We have following books in our library: {self.libname}\")\n",
    "        for book in self.booksList:\n",
    "            print(book)\n",
    "\n",
    "    def lendBook(self, user, book):\n",
    "        if book not in self.lendDict.keys():\n",
    "            self.lendDict.update({book:user})\n",
    "            print(\"Lender-Book database has been updated. You can take the book now\")\n",
    "        else:\n",
    "            print(f\"Book is already being used by {self.lendDict[book]}\")\n",
    "\n",
    "    def addBook(self, book):\n",
    "        self.booksList.append(book)\n",
    "        print(\"Book has been added to the book list\")\n",
    "\n",
    "    def returnBook(self, book):\n",
    "        self.lendDict.pop(book)"
   ]
  },
  {
   "cell_type": "code",
   "execution_count": 2,
   "id": "d750996d",
   "metadata": {},
   "outputs": [],
   "source": [
    "instant = Library(['Python', 'Rich Daddy Poor Daddy', 'Harry Potter', 'C++ Basics', 'Algorithms by CLRS'], \"CodeWithINSTANT\")"
   ]
  },
  {
   "cell_type": "code",
   "execution_count": null,
   "id": "58e9ac2b",
   "metadata": {},
   "outputs": [],
   "source": [
    "while(1):\n",
    "        print(f\"Welcome to the {instant.name} library. Enter your choice to continue\")\n",
    "        print(\"1. Display Books\")\n",
    "        print(\"2. Lend a Book\")\n",
    "        print(\"3. Add a Book\")\n",
    "        print(\"4. Return a Book\")\n",
    "        user_choice = input()\n",
    "        if user_choice not in ['1','2','3','4']:\n",
    "            print(\"Please enter a valid option\")\n",
    "            continue\n",
    "\n",
    "        else:\n",
    "            user_choice = int(user_choice)\n",
    "\n",
    "\n",
    "        if user_choice == 1:\n",
    "            instant.displayBooks()\n",
    "\n",
    "        elif user_choice == 2:\n",
    "            book = input(\"Enter the name of the book you want to lend:\")\n",
    "            user = input(\"Enter your name\")\n",
    "            instant.lendBook(user, book)\n",
    "\n",
    "        elif user_choice == 3:\n",
    "            book = input(\"Enter the name of the book you want to add:\")\n",
    "            instant.addBook(book)\n",
    "\n",
    "        elif user_choice == 4:\n",
    "            book = input(\"Enter the name of the book you want to return:\")\n",
    "            instant.returnBook(book)\n",
    "\n",
    "        else:\n",
    "            print(\"Not a valid option\")\n",
    "\n",
    "\n",
    "        print(\"Press q to quit and c to continue\")\n",
    "        user_choice2 = \"\"\n",
    "        while(user_choice2!=\"c\" and user_choice2!=\"q\"):\n",
    "            user_choice2 = input()\n",
    "            if user_choice2 == \"q\":\n",
    "                exit()\n",
    "\n",
    "            elif user_choice2 == \"c\":\n",
    "                continue\n"
   ]
  }
 ],
 "metadata": {
  "kernelspec": {
   "display_name": "Python 3 (ipykernel)",
   "language": "python",
   "name": "python3"
  },
  "language_info": {
   "codemirror_mode": {
    "name": "ipython",
    "version": 3
   },
   "file_extension": ".py",
   "mimetype": "text/x-python",
   "name": "python",
   "nbconvert_exporter": "python",
   "pygments_lexer": "ipython3",
   "version": "3.9.12"
  }
 },
 "nbformat": 4,
 "nbformat_minor": 5
}
